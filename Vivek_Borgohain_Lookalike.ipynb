{
 "cells": [
  {
   "cell_type": "code",
   "execution_count": 8,
   "metadata": {},
   "outputs": [
    {
     "name": "stdout",
     "output_type": "stream",
     "text": [
      "Lookalike map saved to Lookalike_Map.csv\n",
      "  CustomerID                                         Lookalikes\n",
      "0      C0001  [{\"cust_id\": \"C0103\", \"score\": 0.998}, {\"cust_...\n",
      "1      C0002  [{\"cust_id\": \"C0029\", \"score\": 1.0}, {\"cust_id...\n",
      "2      C0003  [{\"cust_id\": \"C0111\", \"score\": 0.998}, {\"cust_...\n",
      "3      C0004  [{\"cust_id\": \"C0165\", \"score\": 0.998}, {\"cust_...\n",
      "4      C0005  [{\"cust_id\": \"C0167\", \"score\": 1.0}, {\"cust_id...\n"
     ]
    }
   ],
   "source": [
    "# Import necessary libraries\n",
    "import pandas as pd\n",
    "from sklearn.preprocessing import StandardScaler\n",
    "from sklearn.metrics.pairwise import cosine_similarity\n",
    "import json\n",
    "\n",
    "# Load the datasets\n",
    "customers = pd.read_csv('D:/DSA/o/Customers.csv')\n",
    "products = pd.read_csv('D:/DSA/o/Products.csv')\n",
    "transactions = pd.read_csv('D:/DSA/o/Transactions.csv')\n",
    "\n",
    "# Rename columns to avoid conflicts and maintain clarity\n",
    "transactions.rename(columns={'Price': 'TransactionPrice'}, inplace=True)\n",
    "products.rename(columns={'Price': 'ProductPrice'}, inplace=True)\n",
    "\n",
    "# Merge transactions with products and customers\n",
    "transactions = transactions.merge(products, on='ProductID', how='left')\n",
    "customer_transactions = transactions.merge(customers, on='CustomerID', how='left')\n",
    "\n",
    "# Feature Engineering\n",
    "# Aggregate customer data to create meaningful features for similarity calculation\n",
    "customer_profiles = customer_transactions.groupby('CustomerID').agg({\n",
    "    'TotalValue': 'sum',            # Total spending of the customer\n",
    "    'Quantity': 'sum',              # Total quantity of items purchased\n",
    "    'ProductPrice': 'mean'          # Average price of products purchased\n",
    "}).reset_index()\n",
    "\n",
    "# Standardize numerical features for similarity calculation\n",
    "scaler = StandardScaler()\n",
    "numeric_features = customer_profiles[['TotalValue', 'Quantity', 'ProductPrice']]\n",
    "numeric_features_scaled = scaler.fit_transform(numeric_features)\n",
    "\n",
    "# Calculate cosine similarity between customer profiles\n",
    "similarity_matrix = cosine_similarity(numeric_features_scaled)\n",
    "\n",
    "# Convert the similarity matrix into a DataFrame for easier processing\n",
    "similarity_df = pd.DataFrame(similarity_matrix, index=customer_profiles['CustomerID'], columns=customer_profiles['CustomerID'])\n",
    "\n",
    "# Define a function to get top similar customers for a given customer\n",
    "def get_top_similar(customer_id, similarity_df, num_results=3):\n",
    "    if customer_id not in similarity_df.index:\n",
    "        return []\n",
    "    sorted_similarities = similarity_df[customer_id].sort_values(ascending=False)\n",
    "    top_similar = sorted_similarities.iloc[1:num_results+1]  # Exclude self\n",
    "    return [(cust_id, round(score, 3)) for cust_id, score in top_similar.items()]\n",
    "\n",
    "# Get the first 20 customers from the Customers dataset\n",
    "first_20_customers = customers['CustomerID'].iloc[:20]\n",
    "\n",
    "# Generate the lookalike map for the first 20 customers\n",
    "lookalike_map = {\n",
    "    cust_id: [{\"cust_id\": similar_cust, \"score\": score} for similar_cust, score in get_top_similar(cust_id, similarity_df)]\n",
    "    for cust_id in first_20_customers\n",
    "}\n",
    "\n",
    "# Save the lookalike map to a CSV file\n",
    "lookalike_map_df = pd.DataFrame({\n",
    "    \"CustomerID\": list(lookalike_map.keys()),\n",
    "    \"Lookalikes\": [json.dumps(value) for value in lookalike_map.values()]\n",
    "})\n",
    "\n",
    "# Save the results to a file\n",
    "lookalike_map_file_path = 'Lookalike_Map.csv'\n",
    "lookalike_map_df.to_csv(lookalike_map_file_path, index=False)\n",
    "\n",
    "# Output the file path for download or review\n",
    "print(f\"Lookalike map saved to {lookalike_map_file_path}\")\n",
    "\n",
    "# Display a sample of the lookalike map for review\n",
    "print(lookalike_map_df.head())\n"
   ]
  }
 ],
 "metadata": {
  "kernelspec": {
   "display_name": ".venv",
   "language": "python",
   "name": "python3"
  },
  "language_info": {
   "codemirror_mode": {
    "name": "ipython",
    "version": 3
   },
   "file_extension": ".py",
   "mimetype": "text/x-python",
   "name": "python",
   "nbconvert_exporter": "python",
   "pygments_lexer": "ipython3",
   "version": "3.8.0"
  }
 },
 "nbformat": 4,
 "nbformat_minor": 2
}
